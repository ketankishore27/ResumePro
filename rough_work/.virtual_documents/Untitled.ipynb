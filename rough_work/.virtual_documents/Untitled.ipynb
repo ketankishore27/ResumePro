from langchain_core.prompts import PromptTemplate
from pydantic import BaseModel, Field
from langchain_core.output_parsers import PydanticOutputParser


from langchain_google_genai import ChatGoogleGenerativeAI





class ResumeScore(BaseModel):

    score: int = Field("Overall score of the resume, an Applicant Tracking System would give to the resume.")


output_format = PydanticOutputParser(pydantic_object = ResumeScore).get_format_instructions()


resume_string = """
ketan.kishore31@gmail.c  om  +91 7488391342  House No. 4098, Sector   –  4/F, Bokaro Steel City,  Jharkhand   -   827004  EDUCATION  10th from Delhi Public  School, Bokaro Steel City,  Jharkhand in 2010 with  95% GPA  12 th   from Delhi Public  School, Bokaro Steel City,  Jharkhand in 2013 with  82% GPA  B .Tech. in Electronics and  Communication from SRM  University, Chennai in 2017  with 76.85 GPA  M.Tech in Data Science and  Engineering from BITS   -  Work Integrated, 2023 with  7.27 CGPA  Ketan Kishore  An enthusiastic & high energy driven professional ,   targeting challenging assignments as a   Data  Scientist   with an organization of high repute .  GitHub Repo:   https://github.com/ketankishore27  Docker Hub Repo:   https://hub.docker.com/u/ketankishore27  LinkedIn :   https://www.linkedin.com/in/ketan - kishore - b89643150/  PROFILE SUMMARY  •   Goal - oriented professional with experience in   Insurance ,   Banking , and   Telecom   domains.  •   Skilled in   Predictive Modeling   using   Supervised   and   Unsupervised   Learning  •   E xperienced in   Text   Analytics   using   NLP , LLM   and   Generative AI  •   Exposure   to   Cloud services like   AWS   and   Azure  •   Proficient   in working with   Distributed Framework   for   scalable   Analytics and Modelling  PROJECTS  T - Systems India Pvt Ltd   Apr’21   –   Present  Client:   Deutsche Telekom (Germany)  Common Service Desk   (Generative AI)  •   Partnered with stakeholders to define clear project goals and success criteria .  •   Designed and implemented backend models for service desk   support   using RASA and RAG .  •   Fine - tuned model responses to enhance accuracy and   user experience .  •   Created   APIs   for real - time AI model integration .  •   Analysis for incorrect responses from the chatbot.  Client:   Deutsche   Telekom   ( Germany,   Croatia , Hungary , Poland )  Router Domain   (Machine Learning, Big Data)  •   Feature store for telecom data .  •   Developed   models to predict   issues   like   Device, I nstallation , Line, Wi - Fi   error etc.  •   D ashboards   for the bootstrapped new router   developed by   organization .  •   Created flows to   troubleshoot and find new issues in new router versions.  •   Developed customer profiling and journey analysis for people visiting our app.  •   Helped in   finding out issues in the Deutsche Telecom `My Magenta` app  Bajaj Finance   Jun ’ 20   –   Apr’21  Client: Loans /Lending   Team  Money Manager   (Machine Learning)  •   Created ML model to   classify   transactional message   and store entities  •   Assisting   in creating real time offer generation pipeline based on above extracted entities  Client: E - Store   Team  Nearest Dealer Solution   (Machine Learning)  •   Created a   ML model to identify   nearest dealers   for   visitors   on the website.  •   Incorporated business rules to recommend dealers based on loyalty, reviews/score and distance  Client: Marketing   + Cards Team  Clickstream Analytics   (Adobe Analytics, Big Data)  •   Created reports on   Adobe Analytics   on Customer Journey, Path, Churn and Anomaly  •   A nalyze and   r ecommend concordan t /discordan t   simulations sent to the identified visitors
PERSONAL DETAILS  Date of Birth: 20 th   February 1995  Lan guages Known: English and Hindi  HOBBIES  •   Travel  •   Cook  •   Gym  •   Personal Projects ( Here )  •   Friends Catchup  Capgemini.   Oct ’ 17   -   Jun ’20  Client:   Swiss Re  Trip Optimization   -   POC (Tableau, Statistical Modelling)  •   Developed a constrained   algorithm   to optimize trip allocation   cost .  •   Implemented hierarchical de - allocation of trips consi dering corporate band and real time  Tableau frontend filters  •   Created and presented   dashboard having   Drill Down Reports   and overall summary  Client:   Sunlife Financials  News - Feed   –   POC   (N atural   L anguage   P rocessing , Web Scraping)  •   Developed a web crawler   to search   the web   and perform NLP task to create insights.  •   Worked   on possibility to use   satellite imagery to predict Catastrophes damage index .  Client:   Assurant Employee Benefits  Analytics   and Automation   (Python, Basic Machine Learning)  •   Analyze ,   Visualize,   and deduce KPI based on claims distributed over geographical area.  •   Implemented ML and DL model to predict   Fraudulent/Incorrect C laims  •   Work ed   parallel   on   development of   Churn Model   ( POC ).  •   Created   Python API’s and Selenium automations
"""

instruction_prompt = """
You are an expert and strict resume analyzer. Just Applicant Tracking System, you also give score to the resume

Given below is an only text version of a resume.
{resume}

{format_instructions}
"""


scoring_prompt = PromptTemplate.from_template(template=instruction_prompt, 
                                              partial_variables = {"resume": resume_string, 
                                                                   "format_instructions": output_format})


from 






