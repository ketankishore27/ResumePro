{
 "cells": [
  {
   "cell_type": "code",
   "execution_count": 11,
   "id": "49569e19-4fbf-426a-8926-2503ffc9752e",
   "metadata": {},
   "outputs": [
    {
     "data": {
      "text/plain": [
       "True"
      ]
     },
     "execution_count": 11,
     "metadata": {},
     "output_type": "execute_result"
    }
   ],
   "source": [
    "from langchain_core.prompts import PromptTemplate\n",
    "from pydantic import BaseModel, Field\n",
    "from langchain_core.output_parsers import PydanticOutputParser, JsonOutputParser\n",
    "from langchain_google_genai import ChatGoogleGenerativeAI\n",
    "from dotenv import load_dotenv\n",
    "\n",
    "load_dotenv(override=True)"
   ]
  },
  {
   "cell_type": "code",
   "execution_count": 43,
   "id": "95944697-1e0a-485d-b715-e6dc0be9ec02",
   "metadata": {},
   "outputs": [],
   "source": [
    "def create_resume_score():\n",
    "\n",
    "    llm = ChatGoogleGenerativeAI(model=\"gemini-2.5-pro\", temperature=0.)\n",
    "    \n",
    "    class ResumeScore(BaseModel):\n",
    "        score: int = Field(\"Overall score of the resume, an Applicant Tracking System would give to the resume.\")\n",
    "\n",
    "    output_format = PydanticOutputParser(pydantic_object = ResumeScore).get_format_instructions()\n",
    "    instruction_prompt = \"\"\"\n",
    "    You are a hiring manager and resume reviewer with 10+ years of experience in talent acquisition and human resource management.\n",
    "    \n",
    "    Your task is to critically evaluate a candidate's resume and provide the following outputs:\n",
    "    \n",
    "    1. **Score (out of 100)** — based on overall quality, clarity, relevance, structure.\n",
    "    \n",
    "    ---\n",
    "    \n",
    "    ### Evaluation Criteria:\n",
    "    - Clarity and conciseness of content\n",
    "    - Structure and formatting\n",
    "    - Use of metrics and accomplishments\n",
    "    - Language quality (grammar, tone, consistency)\n",
    "    \n",
    "    ---\n",
    "    \n",
    "    **Candidate Resume**:\n",
    "    {resume}\n",
    "    \n",
    "    {format_instructions}\n",
    "    \"\"\"\n",
    "\n",
    "    scoring_prompt = PromptTemplate.from_template(template=instruction_prompt, \n",
    "                                              partial_variables = {\"format_instructions\": output_format})\n",
    "\n",
    "    chain = scoring_prompt | llm | JsonOutputParser()\n",
    "    \n",
    "    return chain"
   ]
  },
  {
   "cell_type": "code",
   "execution_count": 44,
   "id": "12f4a434-8dfc-4297-a0d6-218b09f0bfad",
   "metadata": {},
   "outputs": [],
   "source": [
    "scoring_chain = create_resume_score()"
   ]
  },
  {
   "cell_type": "code",
   "execution_count": 46,
   "id": "09fd35ce-2754-4432-8b28-00a448ec0195",
   "metadata": {},
   "outputs": [],
   "source": [
    "def get_resume_scores(text):\n",
    "    return scoring_chain.invoke(text)"
   ]
  },
  {
   "cell_type": "code",
   "execution_count": null,
   "id": "200d8c4a-8455-4f6c-8dfa-24edcd75e34f",
   "metadata": {},
   "outputs": [],
   "source": []
  },
  {
   "cell_type": "code",
   "execution_count": 2,
   "id": "321f1391-d02e-418e-9f3c-5004b38a9ec9",
   "metadata": {},
   "outputs": [],
   "source": [
    "llm = ChatGoogleGenerativeAI(model=\"gemini-2.5-pro\", temperature=0.)"
   ]
  },
  {
   "cell_type": "code",
   "execution_count": 4,
   "id": "0cc52f3f-cc4d-4154-a009-6635a047626e",
   "metadata": {},
   "outputs": [],
   "source": [
    "class ResumeScore(BaseModel):\n",
    "\n",
    "    score: int = Field(\"Overall score of the resume, an Applicant Tracking System would give to the resume.\")"
   ]
  },
  {
   "cell_type": "code",
   "execution_count": 5,
   "id": "0650e17c-dfca-47f5-afe1-0f762cd18502",
   "metadata": {},
   "outputs": [],
   "source": [
    "output_format = PydanticOutputParser(pydantic_object = ResumeScore).get_format_instructions()"
   ]
  },
  {
   "cell_type": "code",
   "execution_count": 25,
   "id": "0a628625-95cf-44da-b939-4da466d38d0c",
   "metadata": {},
   "outputs": [],
   "source": [
    "resume_string = \"\"\"\n",
    "ketan.kishore31@gmail.c  om  +91 7488391342  House No. 4098, Sector   –  4/F, Bokaro Steel City,  Jharkhand   -   827004  EDUCATION  10th from Delhi Public  School, Bokaro Steel City,  Jharkhand in 2010 with  95% GPA  12 th   from Delhi Public  School, Bokaro Steel City,  Jharkhand in 2013 with  82% GPA  B .Tech. in Electronics and  Communication from SRM  University, Chennai in 2017  with 76.85 GPA  M.Tech in Data Science and  Engineering from BITS   -  Work Integrated, 2023 with  7.27 CGPA  Ketan Kishore  An enthusiastic & high energy driven professional ,   targeting challenging assignments as a   Data  Scientist   with an organization of high repute .  GitHub Repo:   https://github.com/ketankishore27  Docker Hub Repo:   https://hub.docker.com/u/ketankishore27  LinkedIn :   https://www.linkedin.com/in/ketan - kishore - b89643150/  PROFILE SUMMARY  •   Goal - oriented professional with experience in   Insurance ,   Banking , and   Telecom   domains.  •   Skilled in   Predictive Modeling   using   Supervised   and   Unsupervised   Learning  •   E xperienced in   Text   Analytics   using   NLP , LLM   and   Generative AI  •   Exposure   to   Cloud services like   AWS   and   Azure  •   Proficient   in working with   Distributed Framework   for   scalable   Analytics and Modelling  PROJECTS  T - Systems India Pvt Ltd   Apr’21   –   Present  Client:   Deutsche Telekom (Germany)  Common Service Desk   (Generative AI)  •   Partnered with stakeholders to define clear project goals and success criteria .  •   Designed and implemented backend models for service desk   support   using RASA and RAG .  •   Fine - tuned model responses to enhance accuracy and   user experience .  •   Created   APIs   for real - time AI model integration .  •   Analysis for incorrect responses from the chatbot.  Client:   Deutsche   Telekom   ( Germany,   Croatia , Hungary , Poland )  Router Domain   (Machine Learning, Big Data)  •   Feature store for telecom data .  •   Developed   models to predict   issues   like   Device, I nstallation , Line, Wi - Fi   error etc.  •   D ashboards   for the bootstrapped new router   developed by   organization .  •   Created flows to   troubleshoot and find new issues in new router versions.  •   Developed customer profiling and journey analysis for people visiting our app.  •   Helped in   finding out issues in the Deutsche Telecom `My Magenta` app  Bajaj Finance   Jun ’ 20   –   Apr’21  Client: Loans /Lending   Team  Money Manager   (Machine Learning)  •   Created ML model to   classify   transactional message   and store entities  •   Assisting   in creating real time offer generation pipeline based on above extracted entities  Client: E - Store   Team  Nearest Dealer Solution   (Machine Learning)  •   Created a   ML model to identify   nearest dealers   for   visitors   on the website.  •   Incorporated business rules to recommend dealers based on loyalty, reviews/score and distance  Client: Marketing   + Cards Team  Clickstream Analytics   (Adobe Analytics, Big Data)  •   Created reports on   Adobe Analytics   on Customer Journey, Path, Churn and Anomaly  •   A nalyze and   r ecommend concordan t /discordan t   simulations sent to the identified visitors\n",
    "PERSONAL DETAILS  Date of Birth: 20 th   February 1995  Lan guages Known: English and Hindi  HOBBIES  •   Travel  •   Cook  •   Gym  •   Personal Projects ( Here )  •   Friends Catchup  Capgemini.   Oct ’ 17   -   Jun ’20  Client:   Swiss Re  Trip Optimization   -   POC (Tableau, Statistical Modelling)  •   Developed a constrained   algorithm   to optimize trip allocation   cost .  •   Implemented hierarchical de - allocation of trips consi dering corporate band and real time  Tableau frontend filters  •   Created and presented   dashboard having   Drill Down Reports   and overall summary  Client:   Sunlife Financials  News - Feed   –   POC   (N atural   L anguage   P rocessing , Web Scraping)  •   Developed a web crawler   to search   the web   and perform NLP task to create insights.  •   Worked   on possibility to use   satellite imagery to predict Catastrophes damage index .  Client:   Assurant Employee Benefits  Analytics   and Automation   (Python, Basic Machine Learning)  •   Analyze ,   Visualize,   and deduce KPI based on claims distributed over geographical area.  •   Implemented ML and DL model to predict   Fraudulent/Incorrect C laims  •   Work ed   parallel   on   development of   Churn Model   ( POC ).  •   Created   Python API’s and Selenium automations\n",
    "\"\"\"\n",
    "\n",
    "instruction_prompt = \"\"\"\n",
    "You are a hiring manager and resume reviewer with 10+ years of experience in talent acquisition and human resource management.\n",
    "\n",
    "Your task is to critically evaluate a candidate's resume and provide the following outputs:\n",
    "\n",
    "1. **Score (out of 100)** — based on overall quality, clarity, relevance, structure.\n",
    "\n",
    "---\n",
    "\n",
    "### Evaluation Criteria:\n",
    "- Clarity and conciseness of content\n",
    "- Structure and formatting\n",
    "- Use of metrics and accomplishments\n",
    "- Language quality (grammar, tone, consistency)\n",
    "\n",
    "---\n",
    "\n",
    "**Candidate Resume**:\n",
    "{resume}\n",
    "\n",
    "{format_instructions}\n",
    "\"\"\""
   ]
  },
  {
   "cell_type": "code",
   "execution_count": 36,
   "id": "e8182e45-d704-4320-b3e8-cac7fbf1ef7c",
   "metadata": {},
   "outputs": [],
   "source": [
    "scoring_prompt = PromptTemplate.from_template(template=instruction_prompt, \n",
    "                                              partial_variables = {\"format_instructions\": output_format})"
   ]
  },
  {
   "cell_type": "code",
   "execution_count": 40,
   "id": "ea683e5c-d61e-4791-b1dd-42d5295edadf",
   "metadata": {},
   "outputs": [],
   "source": [
    "chain = scoring_prompt | llm | JsonOutputParser()"
   ]
  },
  {
   "cell_type": "code",
   "execution_count": 41,
   "id": "d811c725-4af5-468c-86c7-da53d8f429fd",
   "metadata": {},
   "outputs": [],
   "source": [
    "result = chain.invoke({\"resume\": resume_string})"
   ]
  },
  {
   "cell_type": "code",
   "execution_count": 42,
   "id": "767d306f-bfda-4bf1-93f2-220132630eb1",
   "metadata": {},
   "outputs": [
    {
     "data": {
      "text/plain": [
       "{'score': 58}"
      ]
     },
     "execution_count": 42,
     "metadata": {},
     "output_type": "execute_result"
    }
   ],
   "source": [
    "result"
   ]
  },
  {
   "cell_type": "code",
   "execution_count": null,
   "id": "e6492825-0820-465d-8cb6-807e4676dcf6",
   "metadata": {},
   "outputs": [],
   "source": []
  },
  {
   "cell_type": "code",
   "execution_count": null,
   "id": "223eb2ce-53de-49c9-9919-592b54e04044",
   "metadata": {},
   "outputs": [],
   "source": []
  }
 ],
 "metadata": {
  "kernelspec": {
   "display_name": "Python 3 (ipykernel)",
   "language": "python",
   "name": "python3"
  },
  "language_info": {
   "codemirror_mode": {
    "name": "ipython",
    "version": 3
   },
   "file_extension": ".py",
   "mimetype": "text/x-python",
   "name": "python",
   "nbconvert_exporter": "python",
   "pygments_lexer": "ipython3",
   "version": "3.12.0"
  }
 },
 "nbformat": 4,
 "nbformat_minor": 5
}
